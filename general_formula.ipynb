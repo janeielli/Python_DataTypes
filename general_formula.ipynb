{
 "cells": [
  {
   "cell_type": "markdown",
   "metadata": {},
   "source": [
    "# This program finds the root of a quadratic equation."
   ]
  },
  {
   "cell_type": "code",
   "execution_count": 1,
   "metadata": {},
   "outputs": [
    {
     "name": "stdout",
     "output_type": "stream",
     "text": [
      "dataTypes of my coefficients a=<class 'float'>, b=<class 'int'>, c=<class 'int'>\n"
     ]
    }
   ],
   "source": [
    "import math\n",
    "import numpy as np\n",
    "import matplotlib.pyplot as plt\n",
    "\n",
    "a = 3.6\n",
    "b = 9\n",
    "c = 5\n",
    "\n",
    "print(\"dataTypes of my coefficients a={}, b={}, c={}\".format(type(a),type(b),type(c)))"
   ]
  },
  {
   "cell_type": "code",
   "execution_count": 2,
   "metadata": {},
   "outputs": [],
   "source": [
    "def general_formula(a, b, c):\n",
    "    determinant = b**2 - 4*a*c\n",
    "\n",
    "    if(determinant >= 0):\n",
    "        sol1 = (-b + math.sqrt(determinant))/2*a\n",
    "        sol2 = (-b - math.sqrt(determinant))/2*a\n",
    "        print(\"The solution has two real solutions {0:.3} and {1:.3} \\n\".format(sol1, sol2))\n",
    "    else:\n",
    "        print(\"The equation has non real solution \\n\")"
   ]
  },
  {
   "cell_type": "code",
   "execution_count": 3,
   "metadata": {},
   "outputs": [],
   "source": [
    "def vertex_formula(a, b, c):\n",
    "    h=0\n",
    "    k=0\n",
    "    if (b**2 - 4*a*c >= 0):\n",
    "        D = math.sqrt(b**2-4*a*c)\n",
    "        h = -b/(2*a)\n",
    "        k = -D/(4*a)\n",
    "    return h, k "
   ]
  },
  {
   "cell_type": "code",
   "execution_count": 4,
   "metadata": {},
   "outputs": [],
   "source": [
    "def plot_function(a,b,c):\n",
    "    # 100 linear spaced number\n",
    "    x = np.linspace(-20,20,100)\n",
    "\n",
    "    y = a*x**2 + b*x + c\n",
    "\n",
    "    #setting the axes at the center\n",
    "    fig = plt.figure()\n",
    "    ax = fig.add_subplot(1,1,1)\n",
    "    ax.spines['left'].set_position('center')\n",
    "    ax.spines['bottom'].set_position('zero')\n",
    "    ax.spines['right'].set_position('center')\n",
    "    ax.spines['top'].set_position('center')\n",
    "    ax.xaxis.set_ticks_position('bottom')\n",
    "    ax.yaxis.set_ticks_position('left')\n",
    "\n",
    "    plt.plot(x,y,'r')"
   ]
  },
  {
   "cell_type": "code",
   "execution_count": 5,
   "metadata": {},
   "outputs": [
    {
     "name": "stdout",
     "output_type": "stream",
     "text": [
      "The solution has two real solutions -2.54 and -9.46 \n",
      "\n",
      "The vertex of this quadratic polynomial is -1.5, -0.43301 \n",
      "\n"
     ]
    },
    {
     "data": {
      "image/png": "[encoded data removed]",
      "text/plain": [
       "<Figure size 640x480 with 1 Axes>"
      ]
     },
     "metadata": {},
     "output_type": "display_data"
    }
   ],
   "source": [
    "# Identify if the equation has real solution or complex solution \n",
    "answer_quest = \"yes\"\n",
    "while(answer_quest == \"yes\"):\n",
    "\n",
    "    a, b, c = input(\"Please type the coefficients of the quadratic equation:\").split()\n",
    "    a = float(a)\n",
    "    b = float(b)\n",
    "    c = float(c)\n",
    "    general_formula(a, b, c)\n",
    "    h,k=vertex_formula(a, b, c)\n",
    "    plot_function(a, b, c)\n",
    "    print(\"The vertex of this quadratic polynomial is {0:.5}, {1:.5} \\n\".format(h,k))\n",
    "    answer_quest = input(\"\\nDo you want to keep using the application? \")"
   ]
  },
  {
   "cell_type": "code",
   "execution_count": null,
   "metadata": {},
   "outputs": [],
   "source": []
  }
 ],
 "metadata": {
  "kernelspec": {
   "display_name": "Python 3.9.13 64-bit (windows store)",
   "language": "python",
   "name": "python3"
  },
  "language_info": {
   "codemirror_mode": {
    "name": "ipython",
    "version": 3
   },
   "file_extension": ".py",
   "mimetype": "text/x-python",
   "name": "python",
   "nbconvert_exporter": "python",
   "pygments_lexer": "ipython3",
   "version": "3.9.13"
  },
  "orig_nbformat": 4,
  "vscode": {
   "interpreter": {
    "hash": "cbd674bdd3abc5d013df6e6f0528163efd5a9c55839bd279fcae5b2a784fff96"
   }
  }
 },
 "nbformat": 4,
 "nbformat_minor": 2
}
